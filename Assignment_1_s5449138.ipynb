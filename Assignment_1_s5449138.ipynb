{
 "cells": [
  {
   "cell_type": "markdown",
   "metadata": {
    "id": "rbgjVp6BXGCT"
   },
   "source": [
    "\n",
    "# **Assignment 1**\n",
    "\n",
    "\n",
    "## Task 1. Correlation\n",
    "We will use the data example from the textbook \"Statistical Analysis with The General Linear Model\" by Miller and Haden (2013), Chapter 11.\n",
    "\n",
    "As in Miller and Haden, we have five columns:\n",
    "\n",
    "-Participant (Participant),\n",
    "\n",
    "-Reading Ability (Abil),\n",
    "\n",
    "-Intelligence (IQ),\n",
    "\n",
    "-Number of minutes spent reading at home per week (Home),\n",
    "\n",
    "-Number of minutes spent watching TV per week (TV).\n",
    "\n",
    "\n",
    "For the task we will focus on the relationship between Reading Ability and IQ, but for further practice you can look at other relationships on your own."
   ]
  },
  {
   "cell_type": "markdown",
   "metadata": {
    "id": "Z4cXzKORYFaD"
   },
   "source": [
    "**Question 1**:\n",
    "\n",
    "a. Check whether the data is interval, ratio, or ordinal.\n",
    "\n",
    "b. Check whether there is a data point for each participant on both variables.\n",
    "\n",
    "c. Check whether the data is normally distributed in both variables.\n",
    "\n",
    "d. Create a scatter plot with Reading Ability being the x-axis and IQ, being the y-axis.\n",
    "\n",
    "e. Draw a correlation line on the scatter plot.\n",
    "\n",
    "\n",
    "**Instructions:**\n",
    "\n",
    "1. Load the necessary libraries and explain why you need them (\"#used for ...\").\n",
    "\n",
    "2. Read the MillerHadenData.csv file into a DataFrame and name it \"df_mh\"."
   ]
  },
  {
   "cell_type": "code",
   "execution_count": 351,
   "metadata": {
    "id": "140M8Z4qYn_G"
   },
   "outputs": [],
   "source": [
    "import pandas as pd # used for data wrangling\n",
    "import seaborn as sns # used for visualization\n",
    "import matplotlib  # used for visualization\n",
    "from matplotlib import pyplot as plt # used for creating plots and charts\n",
    "import pylab # used for plots and numerical operations\n",
    "import pingouin as pg # used for statistic analysis with a statistical package of scipy"
   ]
  },
  {
   "cell_type": "code",
   "execution_count": 352,
   "metadata": {},
   "outputs": [
    {
     "data": {
      "text/html": [
       "<div>\n",
       "<style scoped>\n",
       "    .dataframe tbody tr th:only-of-type {\n",
       "        vertical-align: middle;\n",
       "    }\n",
       "\n",
       "    .dataframe tbody tr th {\n",
       "        vertical-align: top;\n",
       "    }\n",
       "\n",
       "    .dataframe thead th {\n",
       "        text-align: right;\n",
       "    }\n",
       "</style>\n",
       "<table border=\"1\" class=\"dataframe\">\n",
       "  <thead>\n",
       "    <tr style=\"text-align: right;\">\n",
       "      <th></th>\n",
       "      <th>Participant</th>\n",
       "      <th>Abil</th>\n",
       "      <th>IQ</th>\n",
       "      <th>Home</th>\n",
       "      <th>TV</th>\n",
       "    </tr>\n",
       "  </thead>\n",
       "  <tbody>\n",
       "    <tr>\n",
       "      <th>0</th>\n",
       "      <td>1</td>\n",
       "      <td>61</td>\n",
       "      <td>107</td>\n",
       "      <td>144</td>\n",
       "      <td>487</td>\n",
       "    </tr>\n",
       "    <tr>\n",
       "      <th>1</th>\n",
       "      <td>2</td>\n",
       "      <td>56</td>\n",
       "      <td>109</td>\n",
       "      <td>123</td>\n",
       "      <td>608</td>\n",
       "    </tr>\n",
       "    <tr>\n",
       "      <th>2</th>\n",
       "      <td>3</td>\n",
       "      <td>45</td>\n",
       "      <td>81</td>\n",
       "      <td>108</td>\n",
       "      <td>640</td>\n",
       "    </tr>\n",
       "    <tr>\n",
       "      <th>3</th>\n",
       "      <td>4</td>\n",
       "      <td>66</td>\n",
       "      <td>100</td>\n",
       "      <td>155</td>\n",
       "      <td>493</td>\n",
       "    </tr>\n",
       "    <tr>\n",
       "      <th>4</th>\n",
       "      <td>5</td>\n",
       "      <td>49</td>\n",
       "      <td>92</td>\n",
       "      <td>103</td>\n",
       "      <td>636</td>\n",
       "    </tr>\n",
       "  </tbody>\n",
       "</table>\n",
       "</div>"
      ],
      "text/plain": [
       "   Participant  Abil   IQ  Home   TV\n",
       "0            1    61  107   144  487\n",
       "1            2    56  109   123  608\n",
       "2            3    45   81   108  640\n",
       "3            4    66  100   155  493\n",
       "4            5    49   92   103  636"
      ]
     },
     "execution_count": 352,
     "metadata": {},
     "output_type": "execute_result"
    }
   ],
   "source": [
    "df_mh = pd.read_csv('C:/Users/14359/Desktop/A1_analysing_data/data for A1/MillerHadenData.csv')\n",
    "\n",
    "# Q1a (code):\n",
    "# Display first few rows of the dataframe\n",
    "df_mh.head()"
   ]
  },
  {
   "cell_type": "code",
   "execution_count": 353,
   "metadata": {
    "id": "rwqidw5q2D1n"
   },
   "outputs": [
    {
     "data": {
      "text/html": [
       "<div>\n",
       "<style scoped>\n",
       "    .dataframe tbody tr th:only-of-type {\n",
       "        vertical-align: middle;\n",
       "    }\n",
       "\n",
       "    .dataframe tbody tr th {\n",
       "        vertical-align: top;\n",
       "    }\n",
       "\n",
       "    .dataframe thead th {\n",
       "        text-align: right;\n",
       "    }\n",
       "</style>\n",
       "<table border=\"1\" class=\"dataframe\">\n",
       "  <thead>\n",
       "    <tr style=\"text-align: right;\">\n",
       "      <th></th>\n",
       "      <th>Participant</th>\n",
       "      <th>Abil</th>\n",
       "      <th>IQ</th>\n",
       "      <th>Home</th>\n",
       "      <th>TV</th>\n",
       "    </tr>\n",
       "  </thead>\n",
       "  <tbody>\n",
       "    <tr>\n",
       "      <th>count</th>\n",
       "      <td>25.000000</td>\n",
       "      <td>25.000000</td>\n",
       "      <td>25.000000</td>\n",
       "      <td>25.000000</td>\n",
       "      <td>25.000000</td>\n",
       "    </tr>\n",
       "    <tr>\n",
       "      <th>mean</th>\n",
       "      <td>13.000000</td>\n",
       "      <td>55.120000</td>\n",
       "      <td>100.040000</td>\n",
       "      <td>124.000000</td>\n",
       "      <td>599.920000</td>\n",
       "    </tr>\n",
       "    <tr>\n",
       "      <th>std</th>\n",
       "      <td>7.359801</td>\n",
       "      <td>6.084954</td>\n",
       "      <td>9.043782</td>\n",
       "      <td>21.039645</td>\n",
       "      <td>95.056965</td>\n",
       "    </tr>\n",
       "    <tr>\n",
       "      <th>min</th>\n",
       "      <td>1.000000</td>\n",
       "      <td>45.000000</td>\n",
       "      <td>81.000000</td>\n",
       "      <td>87.000000</td>\n",
       "      <td>407.000000</td>\n",
       "    </tr>\n",
       "    <tr>\n",
       "      <th>25%</th>\n",
       "      <td>7.000000</td>\n",
       "      <td>50.000000</td>\n",
       "      <td>95.000000</td>\n",
       "      <td>108.000000</td>\n",
       "      <td>523.000000</td>\n",
       "    </tr>\n",
       "    <tr>\n",
       "      <th>50%</th>\n",
       "      <td>13.000000</td>\n",
       "      <td>54.000000</td>\n",
       "      <td>100.000000</td>\n",
       "      <td>123.000000</td>\n",
       "      <td>636.000000</td>\n",
       "    </tr>\n",
       "    <tr>\n",
       "      <th>75%</th>\n",
       "      <td>19.000000</td>\n",
       "      <td>61.000000</td>\n",
       "      <td>104.000000</td>\n",
       "      <td>141.000000</td>\n",
       "      <td>673.000000</td>\n",
       "    </tr>\n",
       "    <tr>\n",
       "      <th>max</th>\n",
       "      <td>25.000000</td>\n",
       "      <td>67.000000</td>\n",
       "      <td>118.000000</td>\n",
       "      <td>161.000000</td>\n",
       "      <td>787.000000</td>\n",
       "    </tr>\n",
       "  </tbody>\n",
       "</table>\n",
       "</div>"
      ],
      "text/plain": [
       "       Participant       Abil          IQ        Home          TV\n",
       "count    25.000000  25.000000   25.000000   25.000000   25.000000\n",
       "mean     13.000000  55.120000  100.040000  124.000000  599.920000\n",
       "std       7.359801   6.084954    9.043782   21.039645   95.056965\n",
       "min       1.000000  45.000000   81.000000   87.000000  407.000000\n",
       "25%       7.000000  50.000000   95.000000  108.000000  523.000000\n",
       "50%      13.000000  54.000000  100.000000  123.000000  636.000000\n",
       "75%      19.000000  61.000000  104.000000  141.000000  673.000000\n",
       "max      25.000000  67.000000  118.000000  161.000000  787.000000"
      ]
     },
     "execution_count": 353,
     "metadata": {},
     "output_type": "execute_result"
    }
   ],
   "source": [
    "# Check data types and information\n",
    "df_mh.describe()"
   ]
  },
  {
   "cell_type": "code",
   "execution_count": 354,
   "metadata": {
    "id": "Edd9mYgi2Jar"
   },
   "outputs": [
    {
     "data": {
      "text/plain": [
       "Participant    0\n",
       "Abil           0\n",
       "IQ             0\n",
       "Home           0\n",
       "TV             0\n",
       "dtype: int64"
      ]
     },
     "execution_count": 354,
     "metadata": {},
     "output_type": "execute_result"
    }
   ],
   "source": [
    "# Q1b (code):\n",
    "# Check for missing values\n",
    "missing_values=df_mh.isnull().sum()\n",
    "missing_values"
   ]
  },
  {
   "cell_type": "code",
   "execution_count": 355,
   "metadata": {},
   "outputs": [
    {
     "name": "stdout",
     "output_type": "stream",
     "text": [
      "All participants have data points in both 'Abil' and 'IQ'.\n"
     ]
    }
   ],
   "source": [
    "# Check whether there is a data point for each participant on both variables\n",
    "if True in df_mh.isnull()['Abil']:\n",
    "    print(\"Missing data for this participant in 'Abil'.\")\n",
    "elif True in df_mh.isnull()['IQ']:\n",
    "    print(\"Missing data for this participant in 'IQ'.\")\n",
    "else:\n",
    "    print(\"All participants have data points in both 'Abil' and 'IQ'.\")"
   ]
  },
  {
   "cell_type": "code",
   "execution_count": 356,
   "metadata": {
    "id": "3ALe0fjr2K5h"
   },
   "outputs": [
    {
     "name": "stdout",
     "output_type": "stream",
     "text": [
      "0.2354906052350998\n",
      "Reading ability data are normally distributed.\n",
      "0.49081143736839294\n",
      "IQ data are normally distributed.\n"
     ]
    }
   ],
   "source": [
    "# Q1c (code):\n",
    "# Check data distribution \n",
    "import scipy.stats as stats #used for shapiro-wilks test\n",
    "\n",
    "# shapiro-wilks test for reading ability data\n",
    "score_shapiro_Abil, p_val_shapiro_Abil = stats.shapiro(df_mh['Abil'])\n",
    "print(p_val_shapiro_Abil)\n",
    "if p_val_shapiro_Abil<0.05:\n",
    "    print(\"Reading ability data are NOT normally distributed.\")\n",
    "else:\n",
    "    print(\"Reading ability data are normally distributed.\")\n",
    "\n",
    "# shapiro-wilks test for IQ data\n",
    "score_shapiro_IQ, p_val_shapiro_IQ = stats.shapiro(df_mh['IQ'])\n",
    "print(p_val_shapiro_IQ)\n",
    "if p_val_shapiro_IQ<0.05:\n",
    "    print(\"IQ data are NOT normally distributed.\")\n",
    "else:\n",
    "    print(\"IQ data are normally distributed.\")"
   ]
  },
  {
   "cell_type": "code",
   "execution_count": 357,
   "metadata": {
    "id": "xaQ300fY2MPe"
   },
   "outputs": [
    {
     "data": {
      "image/png": "[encoded data removed]",
      "text/plain": [
       "<Figure size 640x480 with 1 Axes>"
      ]
     },
     "metadata": {},
     "output_type": "display_data"
    }
   ],
   "source": [
    "# Q1d (code):\n",
    "# Scatter plot\n",
    "Reading_ability=df_mh['Abil']\n",
    "IQ=df_mh['IQ']\n",
    "plt.scatter(Reading_ability, IQ)\n",
    "plt.xlabel(\"Reading_ability\")\n",
    "plt.ylabel(\"IQ\")\n",
    "plt.show()"
   ]
  },
  {
   "cell_type": "code",
   "execution_count": 358,
   "metadata": {
    "id": "Zpkwqc382N06"
   },
   "outputs": [
    {
     "data": {
      "image/png": "[encoded data removed]",
      "text/plain": [
       "<Figure size 640x480 with 1 Axes>"
      ]
     },
     "metadata": {},
     "output_type": "display_data"
    }
   ],
   "source": [
    "# Q1e (code):\n",
    "# Correlation line\n",
    "plot_corr=sns.regplot(x='Abil', y='IQ',color='r', data=df_mh)\n",
    "plt.show()"
   ]
  },
  {
   "cell_type": "markdown",
   "metadata": {
    "id": "tKtW2diqZq1S"
   },
   "source": [
    "**Question 2**:\n",
    "\n",
    "a. Which correlation coefficient test can we use, Pearson or Spearman? Briefly explian why based on the results of Question 1.\n",
    "\n",
    "b. Conduct a correlation coefficient test.\n",
    "\n",
    "c. Interpret the result (direction and strength of the association between the two varibles)"
   ]
  },
  {
   "cell_type": "markdown",
   "metadata": {
    "id": "t5GRVxHwaKIS"
   },
   "source": [
    "### Q2a (answer with words):\n",
    "We can use Pearson because the data of both variables are normally distributed and the relation is linear."
   ]
  },
  {
   "cell_type": "code",
   "execution_count": 359,
   "metadata": {
    "id": "LTSp6xMFaKgf"
   },
   "outputs": [
    {
     "name": "stdout",
     "output_type": "stream",
     "text": [
      "          n        r         CI95%     p-val   BF10     power\n",
      "pearson  25  0.45117  [0.07, 0.72]  0.023593  2.804  0.640299\n"
     ]
    }
   ],
   "source": [
    "# Q2b (code):\n",
    "corr_Abil_IQ=pg.corr(df_mh['Abil'], df_mh['IQ'])\n",
    "print(corr_Abil_IQ)"
   ]
  },
  {
   "cell_type": "markdown",
   "metadata": {
    "id": "m_3aCSG7ylFJ"
   },
   "source": [
    "### Q2c (answer with words):\n",
    "The correlation coefficient (r) is 0.45117, indicating a positive linear correlation between the two variables. When the value is higher than 0, as one variable increases, the other tends to increase as well. Additionally, the value is lower than 0.5, which suggests the association between the two variables is relatively weak."
   ]
  },
  {
   "cell_type": "markdown",
   "metadata": {
    "id": "mogdaz8P27oU"
   },
   "source": [
    "## Task 2. Chi-square Test\n",
    "We will continue to use the data example from Task 1.\n",
    "\n",
    "We want to explore whether there are significant differences in the amount of time spent reading at home per week (Home) among people with different reading abilities (Reading Ability). Therefore, we will divide the reading ability of all participants into two groups. The first group is those with low reading ability (Reading Ability at or below the rounded average), and the second group is those with high reading ability (Reading Ability above the rounded average). We will store this grouping in a new column named \"Rank_Abil\".\n",
    "\n",
    "\n",
    "Similarly, the reading time is divided into two different scenarios: the first scenario is infrequent reading (Home at or below the rounded average), and the other is frequent reading (Reading Ability above the rounded average). We will store this grouping in a new column named \"Rank_Home\".\n",
    "\n",
    "\n",
    "Then, construct a Contingency Matrix and perform a Chi-square test.\n",
    "\n",
    "**Question 3**:\n",
    "\n",
    "a. Please state the null hypothesis (H0) and alternative hypothesis (H1) for this Chi-square test.\n",
    "\n",
    "b. Based on the task description, add new columns “Rank_Abil” and \"Rank_Home\" to the dataframe df_mh.\n",
    "\n",
    "c. Construct a Contingency Matrix.\n",
    "\n",
    "d. Perform a Chi-square test.\n",
    "\n",
    "e. Interpret the results of the Chi-square test (answer in text)."
   ]
  },
  {
   "cell_type": "markdown",
   "metadata": {
    "id": "tIKHfEwG-Pte"
   },
   "source": [
    "### Q3a (answer in words):\n",
    "H0:There is NO relationship between the amount of time people spend reading at home and their reading ability.\n",
    "\n",
    "H1:People with higher reading ability are more likely to spend more time reading at home compared to those with lower reading ability."
   ]
  },
  {
   "cell_type": "code",
   "execution_count": 360,
   "metadata": {
    "id": "nlO-hmq2-V2Z"
   },
   "outputs": [
    {
     "data": {
      "text/html": [
       "<div>\n",
       "<style scoped>\n",
       "    .dataframe tbody tr th:only-of-type {\n",
       "        vertical-align: middle;\n",
       "    }\n",
       "\n",
       "    .dataframe tbody tr th {\n",
       "        vertical-align: top;\n",
       "    }\n",
       "\n",
       "    .dataframe thead th {\n",
       "        text-align: right;\n",
       "    }\n",
       "</style>\n",
       "<table border=\"1\" class=\"dataframe\">\n",
       "  <thead>\n",
       "    <tr style=\"text-align: right;\">\n",
       "      <th></th>\n",
       "      <th>Participant</th>\n",
       "      <th>Abil</th>\n",
       "      <th>IQ</th>\n",
       "      <th>Home</th>\n",
       "      <th>TV</th>\n",
       "      <th>Rank_Abil</th>\n",
       "      <th>Rank_Home</th>\n",
       "    </tr>\n",
       "  </thead>\n",
       "  <tbody>\n",
       "    <tr>\n",
       "      <th>0</th>\n",
       "      <td>1</td>\n",
       "      <td>61</td>\n",
       "      <td>107</td>\n",
       "      <td>144</td>\n",
       "      <td>487</td>\n",
       "      <td>high</td>\n",
       "      <td>frequent</td>\n",
       "    </tr>\n",
       "    <tr>\n",
       "      <th>1</th>\n",
       "      <td>2</td>\n",
       "      <td>56</td>\n",
       "      <td>109</td>\n",
       "      <td>123</td>\n",
       "      <td>608</td>\n",
       "      <td>high</td>\n",
       "      <td>infrequent</td>\n",
       "    </tr>\n",
       "    <tr>\n",
       "      <th>2</th>\n",
       "      <td>3</td>\n",
       "      <td>45</td>\n",
       "      <td>81</td>\n",
       "      <td>108</td>\n",
       "      <td>640</td>\n",
       "      <td>low</td>\n",
       "      <td>infrequent</td>\n",
       "    </tr>\n",
       "    <tr>\n",
       "      <th>3</th>\n",
       "      <td>4</td>\n",
       "      <td>66</td>\n",
       "      <td>100</td>\n",
       "      <td>155</td>\n",
       "      <td>493</td>\n",
       "      <td>high</td>\n",
       "      <td>frequent</td>\n",
       "    </tr>\n",
       "    <tr>\n",
       "      <th>4</th>\n",
       "      <td>5</td>\n",
       "      <td>49</td>\n",
       "      <td>92</td>\n",
       "      <td>103</td>\n",
       "      <td>636</td>\n",
       "      <td>low</td>\n",
       "      <td>infrequent</td>\n",
       "    </tr>\n",
       "  </tbody>\n",
       "</table>\n",
       "</div>"
      ],
      "text/plain": [
       "   Participant  Abil   IQ  Home   TV Rank_Abil   Rank_Home\n",
       "0            1    61  107   144  487      high    frequent\n",
       "1            2    56  109   123  608      high  infrequent\n",
       "2            3    45   81   108  640       low  infrequent\n",
       "3            4    66  100   155  493      high    frequent\n",
       "4            5    49   92   103  636       low  infrequent"
      ]
     },
     "execution_count": 360,
     "metadata": {},
     "output_type": "execute_result"
    }
   ],
   "source": [
    "# Q3b (code):\n",
    "# Import necessary libraries\n",
    "import pandas as pd  ##used for creating new columns\n",
    "from scipy.stats import chi2_contingency ##used for performing a Chi-square test\n",
    "\n",
    "# Define the rounded average for Reading Ability and Home\n",
    "# The round() function is  used to round a number to the nearest whole number or to a specified number of decimal places.https://www.w3schools.com/python/ref_func_round.asp \n",
    "rounded_average_Home=round(df_mh['Home'].mean())    \n",
    "rounded_average_Abil=round(df_mh['Abil'].mean()) \n",
    "\n",
    "# Create the Rank_Abil column\n",
    "Abil_rank=[]\n",
    "for item in df_mh['Abil']:\n",
    "    if item > rounded_average_Abil:\n",
    "        Abil_rank.append('high')\n",
    "    else:\n",
    "        Abil_rank.append('low')\n",
    "df_mh['Rank_Abil']=Abil_rank\n",
    "\n",
    "# Create the Rank_Home column\n",
    "Home_rank=[]\n",
    "for item in df_mh['Home']:\n",
    "    if item > rounded_average_Home:\n",
    "        Home_rank.append('frequent')\n",
    "    else:\n",
    "        Home_rank.append('infrequent')\n",
    "df_mh['Rank_Home']=Home_rank\n",
    "\n",
    "df_mh.head()"
   ]
  },
  {
   "cell_type": "code",
   "execution_count": 361,
   "metadata": {
    "id": "jjtp4cm4-Y36"
   },
   "outputs": [
    {
     "name": "stdout",
     "output_type": "stream",
     "text": [
      "The values:\n",
      "[8, 3, 2, 12]\n",
      "The contingency matrix\n",
      "[[ 8  3]\n",
      " [ 2 12]]\n"
     ]
    }
   ],
   "source": [
    "# Q3c (code):\n",
    "# Construct Contingency Matrix\n",
    "import numpy as np\n",
    "\n",
    "# Create a dataframe with only the HIGH reading ability rows\n",
    "high_abil=df_mh.loc[df_mh['Rank_Abil']=='high']\n",
    "\n",
    "# Divide the data of reading time of this dataframe into a group of frequent reading and the other group of infrequent reading \n",
    "high_abil_fre_home=[item for item in high_abil['Rank_Home'] if item=='frequent']\n",
    "high_abil_infre_home=[item for item in high_abil['Rank_Home'] if item=='infrequent']\n",
    "\n",
    "# Create a dataframe with only the LOW reading ability rows\n",
    "low_abil=df_mh.loc[df_mh['Rank_Abil']=='low']\n",
    "\n",
    "# Divide the data of reading time of this dataframe into a group of frequent reading and the other group of infrequent reading \n",
    "low_abil_fre_home=[item for item in low_abil['Rank_Home'] if item=='frequent']\n",
    "low_abil_infre_home=[item for item in low_abil['Rank_Home'] if item=='infrequent']\n",
    "\n",
    "# We can store the observed frequencies in a list\n",
    "data4contingency = []\n",
    "data4contingency.append(len(high_abil_fre_home))\n",
    "data4contingency.append(len(low_abil_fre_home))\n",
    "data4contingency.append(len(high_abil_infre_home))\n",
    "data4contingency.append(len(low_abil_infre_home))\n",
    "\n",
    "print('The values:')\n",
    "print(data4contingency)\n",
    "\n",
    "# We transform the list in a contingency matrix\n",
    "data_cm = np.array(data4contingency).reshape(2,-1)\n",
    "\n",
    "print('The contingency matrix')\n",
    "print(data_cm)"
   ]
  },
  {
   "cell_type": "code",
   "execution_count": 362,
   "metadata": {
    "id": "gyDS8hq2-bmx"
   },
   "outputs": [
    {
     "name": "stdout",
     "output_type": "stream",
     "text": [
      "6.500270562770561 0.010785807794066234\n",
      "These are the expected frequencies\n",
      "[[4.4 6.6]\n",
      " [5.6 8.4]]\n",
      "The observed differences are statiscally significant - H0 is rejected\n"
     ]
    }
   ],
   "source": [
    "# Q3d (code):\n",
    "# Perform the Chi-square test\n",
    "chi2, p_value, degree_of_freedom, expected_frequencies = chi2_contingency(data_cm)\n",
    "print(chi2, p_value)\n",
    "print('These are the expected frequencies')\n",
    "print(expected_frequencies)\n",
    "\n",
    "if p_value < 0.05:\n",
    "    print(\"The observed differences are statiscally significant - H0 is rejected\")\n",
    "else:\n",
    "    print(\"The observed differences are not statiscally significant - H1 is rejected\")"
   ]
  },
  {
   "cell_type": "markdown",
   "metadata": {
    "id": "fj0gW0pS-dN5"
   },
   "source": [
    "### Q3e (answer in words):\n",
    "p-value is lower than 0.05 and H0 is rejected, which suggests evidence for a relationship between the amount of time people spend reading at home and their reading ability."
   ]
  },
  {
   "cell_type": "markdown",
   "metadata": {
    "id": "FgYRxqqpaUIk"
   },
   "source": [
    "## Task 3. Two-sample t-test\n",
    "As we discussed on Week 3, Two-sample designs are very useful when we want to know whether there is a difference between groups on a particular variable.\n",
    "\n",
    "In this assignment, you will be guided to replicate the Experiment 4 (p. 887-888) from the paper below, focusing on understanding the data through descriptive statistics, visualizing distributions, testing assumptions (normality and variance homogeneity), and finally performing the independent t-test.\n",
    "\n",
    "Schroeder, J. and Epley, N. (2015). The sound of intellect: Speech reveals a thoughtful mind, increasing a job candidate's appeal. Psychological Science, 26, 277--891.\n",
    "\n",
    "\n",
    "As we explained during Week 3 lecture, there are different types of two-sample designs depending on whether or not the two groups are independent (e.g., different participants in different conditions) or not (e.g., same participants in different conditions). In this course we focus on independent samples, which typically means that the observations in the two groups are unrelated - usually meaning different people. But in real practice you will need to go through similar procedures to determine which is the proper statistical test to use.\n",
    "\n",
    "\n",
    "\n",
    "\n",
    "### Background of data: Speech as indicator of intellect\n",
    "To recap on Experiment 4, 39 professional recruiters from Fortune 500 companies evaluated job pitches of M.B.A. candidates (Masters in Business Administration) from the University of Chicago Booth School of Business. The methods and results appear on pages 887--889 of the article if you want to look at them specifically for more details."
   ]
  },
  {
   "cell_type": "markdown",
   "metadata": {
    "id": "vIc57Glgn5Bb"
   },
   "source": [
    "###Step 1: Analyze the demographics of evaluators from the provided dataset\n",
    "\n",
    "**Instructions:**\n",
    "\n",
    "1. Load the necessary libraries (pandas, scipy, numpy, matplotlib.pyplot, seaborn) and explain why you need them (\"#used for ...\").\n",
    "\n",
    "2. Read the evaluators.csv file into a DataFrame.\n",
    "\n",
    "3. Calculate the mean and standard deviation of the age of the evaluators, handling missing values appropriately.\n",
    "\n",
    "4. Count how many male and female evaluators were in the study.\n",
    "\n",
    "**Question 4:**\n",
    "\n",
    "a. What was the mean age of the evaluators?\n",
    "What was the standard deviation of the age of the evaluators?\n",
    "\n",
    "b. How many participants were female and how many participants were male?\n"
   ]
  },
  {
   "cell_type": "code",
   "execution_count": 363,
   "metadata": {
    "id": "RgnTye-yojyH"
   },
   "outputs": [
    {
     "data": {
      "text/html": [
       "<div>\n",
       "<style scoped>\n",
       "    .dataframe tbody tr th:only-of-type {\n",
       "        vertical-align: middle;\n",
       "    }\n",
       "\n",
       "    .dataframe tbody tr th {\n",
       "        vertical-align: top;\n",
       "    }\n",
       "\n",
       "    .dataframe thead th {\n",
       "        text-align: right;\n",
       "    }\n",
       "</style>\n",
       "<table border=\"1\" class=\"dataframe\">\n",
       "  <thead>\n",
       "    <tr style=\"text-align: right;\">\n",
       "      <th></th>\n",
       "      <th>eval_id</th>\n",
       "      <th>condition</th>\n",
       "      <th>age</th>\n",
       "      <th>sex</th>\n",
       "    </tr>\n",
       "  </thead>\n",
       "  <tbody>\n",
       "    <tr>\n",
       "      <th>0</th>\n",
       "      <td>1</td>\n",
       "      <td>listened</td>\n",
       "      <td>29.0</td>\n",
       "      <td>2.0</td>\n",
       "    </tr>\n",
       "    <tr>\n",
       "      <th>1</th>\n",
       "      <td>2</td>\n",
       "      <td>listened</td>\n",
       "      <td>27.0</td>\n",
       "      <td>2.0</td>\n",
       "    </tr>\n",
       "    <tr>\n",
       "      <th>2</th>\n",
       "      <td>3</td>\n",
       "      <td>listened</td>\n",
       "      <td>27.0</td>\n",
       "      <td>2.0</td>\n",
       "    </tr>\n",
       "    <tr>\n",
       "      <th>3</th>\n",
       "      <td>4</td>\n",
       "      <td>read</td>\n",
       "      <td>40.0</td>\n",
       "      <td>2.0</td>\n",
       "    </tr>\n",
       "    <tr>\n",
       "      <th>4</th>\n",
       "      <td>5</td>\n",
       "      <td>read</td>\n",
       "      <td>32.0</td>\n",
       "      <td>2.0</td>\n",
       "    </tr>\n",
       "  </tbody>\n",
       "</table>\n",
       "</div>"
      ],
      "text/plain": [
       "   eval_id condition   age  sex\n",
       "0        1  listened  29.0  2.0\n",
       "1        2  listened  27.0  2.0\n",
       "2        3  listened  27.0  2.0\n",
       "3        4      read  40.0  2.0\n",
       "4        5      read  32.0  2.0"
      ]
     },
     "execution_count": 363,
     "metadata": {},
     "output_type": "execute_result"
    }
   ],
   "source": [
    "import pandas as pd # used for data manipulation and analysis\n",
    "from scipy import stats # used for statistical operations\n",
    "import numpy as np # used for numerical operations\n",
    "import matplotlib.pyplot as plt ##used for creating plots and charts\n",
    "import seaborn as sns #used for visualization\n",
    "\n",
    "# Load the data\n",
    "df_evaluators = pd.read_csv('C:/Users/14359/Desktop/A1_analysing_data/data for A1//evaluators.csv')\n",
    "df_evaluators.head()"
   ]
  },
  {
   "cell_type": "code",
   "execution_count": 364,
   "metadata": {
    "id": "eDw0XnX3BRhe"
   },
   "outputs": [
    {
     "name": "stdout",
     "output_type": "stream",
     "text": [
      "30.852941176470587\n",
      "6.238358141327351\n"
     ]
    }
   ],
   "source": [
    "# Q4a (code):\n",
    "\n",
    "# Filter out the rows with missing values\n",
    "valid_data=df_evaluators.loc[df_evaluators.isnull()['age'] == False]\n",
    "\n",
    "# Calculate mean and standard deviation for age\n",
    "age_mean=valid_data['age'].mean()\n",
    "age_std = df_evaluators['age'].std() # Return sample standard deviation over requested axis.https://pandas.pydata.org/docs/reference/api/pandas.DataFrame.std.html\n",
    "\n",
    "print(age_mean)\n",
    "print(age_std)"
   ]
  },
  {
   "cell_type": "code",
   "execution_count": 365,
   "metadata": {
    "id": "I0tU57R5ufRI"
   },
   "outputs": [
    {
     "name": "stdout",
     "output_type": "stream",
     "text": [
      "male evaluators: 4\n",
      "female evaluators: 30\n"
     ]
    }
   ],
   "source": [
    "# Q4b (code)\n",
    "# Count male and female evaluators\n",
    "# In the 'sex' column: 1 represents males and 2 represents females\n",
    "male=df_evaluators.loc[df_evaluators['sex']==1, 'sex'].count()\n",
    "female=df_evaluators.loc[df_evaluators['sex']==2, 'sex'].count()\n",
    "\n",
    "# Display the gender counts\n",
    "print(\"male evaluators:\",male)\n",
    "print(\"female evaluators:\",female)"
   ]
  },
  {
   "cell_type": "markdown",
   "metadata": {
    "id": "KK-MdZfdpDI3"
   },
   "source": [
    "###Step 2: Calculate overall intellect ratings from evaluators and prepare a combined dataset for analysis\n",
    "\n",
    "We are now going to calculate an overall intellect rating given by each evaluator. To break that down a bit, we are going to calculate how intellectual the evaluators (the raters) thought candidates were overall, depending on whether the evaluators read or listened to the candidates' resume pitches. This is calculated by averaging the ratings of competent, thoughtful and intelligent for each evaluator held within ratings.csv.\n",
    "\n",
    "Note: We are not looking at ratings to individual candidates; we are looking at overall ratings for each evaluator. This is a bit confusing but makes sense if you stop to think about it a little. You can think about it in terms of \"do raters rate differently depending on whether they read or listen to a resume pitch\".\n",
    "We will then combine the overall intellect rating with the overall impression ratings and overall hire ratings for each evaluator, all ready found in ratings.csv. In the end we will have a new new dataframe named \"ratings2\" - which has the below structure:\n",
    "\n",
    "**eval_id** shows the evaluator ID. Each evaluator has a different ID. So all the 1's are the same evaluator.\n",
    "\n",
    "**Category** shows the scale that they were rating on - intellect, hire, impression\n",
    "\n",
    "**Rating** shows the overall rating given by that evaluator on a given scale.\n",
    "\n",
    "**condition** shows whether that evaluator listened to (e.g., evaluators 1, 2 and 3), or read (e.g., evaluator 4) the resume.\n",
    "\n",
    "\n",
    "**Instructions:**\n",
    "\n",
    "1. Load the ratings.csv file.\n",
    "\n",
    "2. Filter and calculate the mean intellect rating for each evaluator.\n",
    "\n",
    "3. Combine this with overall impression and hire ratings to create a new DataFrame named \"rating2\".\n",
    "\n",
    "4. Merge this DataFrame with the evaluator demographics.\n",
    "\n",
    "**Question 5**:\n",
    "\n",
    "Print the head of \"rating2\".\n"
   ]
  },
  {
   "cell_type": "code",
   "execution_count": 366,
   "metadata": {
    "id": "l85NzSC-pj57"
   },
   "outputs": [
    {
     "data": {
      "text/html": [
       "<div>\n",
       "<style scoped>\n",
       "    .dataframe tbody tr th:only-of-type {\n",
       "        vertical-align: middle;\n",
       "    }\n",
       "\n",
       "    .dataframe tbody tr th {\n",
       "        vertical-align: top;\n",
       "    }\n",
       "\n",
       "    .dataframe thead th {\n",
       "        text-align: right;\n",
       "    }\n",
       "</style>\n",
       "<table border=\"1\" class=\"dataframe\">\n",
       "  <thead>\n",
       "    <tr style=\"text-align: right;\">\n",
       "      <th></th>\n",
       "      <th>eval_id</th>\n",
       "      <th>Category</th>\n",
       "      <th>Rating</th>\n",
       "    </tr>\n",
       "  </thead>\n",
       "  <tbody>\n",
       "    <tr>\n",
       "      <th>0</th>\n",
       "      <td>1</td>\n",
       "      <td>competent</td>\n",
       "      <td>6.0</td>\n",
       "    </tr>\n",
       "    <tr>\n",
       "      <th>1</th>\n",
       "      <td>1</td>\n",
       "      <td>thoughtful</td>\n",
       "      <td>6.0</td>\n",
       "    </tr>\n",
       "    <tr>\n",
       "      <th>2</th>\n",
       "      <td>1</td>\n",
       "      <td>intelligent</td>\n",
       "      <td>6.0</td>\n",
       "    </tr>\n",
       "    <tr>\n",
       "      <th>3</th>\n",
       "      <td>1</td>\n",
       "      <td>impression</td>\n",
       "      <td>7.0</td>\n",
       "    </tr>\n",
       "    <tr>\n",
       "      <th>4</th>\n",
       "      <td>1</td>\n",
       "      <td>hire</td>\n",
       "      <td>6.0</td>\n",
       "    </tr>\n",
       "  </tbody>\n",
       "</table>\n",
       "</div>"
      ],
      "text/plain": [
       "   eval_id     Category  Rating\n",
       "0        1    competent     6.0\n",
       "1        1   thoughtful     6.0\n",
       "2        1  intelligent     6.0\n",
       "3        1   impression     7.0\n",
       "4        1         hire     6.0"
      ]
     },
     "execution_count": 366,
     "metadata": {},
     "output_type": "execute_result"
    }
   ],
   "source": [
    "# Load ratings data\n",
    "df_ratings = pd.read_csv('C:/Users/14359/Desktop/A1_analysing_data/data for A1/ratings.csv')\n",
    "df_ratings.head()"
   ]
  },
  {
   "cell_type": "code",
   "execution_count": 367,
   "metadata": {
    "id": "5dxtVUSMBZwf"
   },
   "outputs": [
    {
     "name": "stderr",
     "output_type": "stream",
     "text": [
      "C:\\Users\\14359\\AppData\\Local\\Temp\\ipykernel_30108\\52982477.py:7: FutureWarning: The default value of numeric_only in DataFrameGroupBy.mean is deprecated. In a future version, numeric_only will default to False. Either specify numeric_only or select only columns which should be valid for the function.\n",
      "  intellect_mean=df_ratings2.groupby('eval_id').mean().reset_index()\n"
     ]
    },
    {
     "data": {
      "text/html": [
       "<div>\n",
       "<style scoped>\n",
       "    .dataframe tbody tr th:only-of-type {\n",
       "        vertical-align: middle;\n",
       "    }\n",
       "\n",
       "    .dataframe tbody tr th {\n",
       "        vertical-align: top;\n",
       "    }\n",
       "\n",
       "    .dataframe thead th {\n",
       "        text-align: right;\n",
       "    }\n",
       "</style>\n",
       "<table border=\"1\" class=\"dataframe\">\n",
       "  <thead>\n",
       "    <tr style=\"text-align: right;\">\n",
       "      <th></th>\n",
       "      <th>eval_id</th>\n",
       "      <th>Rating</th>\n",
       "      <th>Category</th>\n",
       "      <th>condition</th>\n",
       "    </tr>\n",
       "  </thead>\n",
       "  <tbody>\n",
       "    <tr>\n",
       "      <th>0</th>\n",
       "      <td>1</td>\n",
       "      <td>6.000000</td>\n",
       "      <td>hire</td>\n",
       "      <td>listened</td>\n",
       "    </tr>\n",
       "    <tr>\n",
       "      <th>1</th>\n",
       "      <td>1</td>\n",
       "      <td>7.000000</td>\n",
       "      <td>impression</td>\n",
       "      <td>listened</td>\n",
       "    </tr>\n",
       "    <tr>\n",
       "      <th>2</th>\n",
       "      <td>1</td>\n",
       "      <td>6.000000</td>\n",
       "      <td>intellect</td>\n",
       "      <td>listened</td>\n",
       "    </tr>\n",
       "    <tr>\n",
       "      <th>3</th>\n",
       "      <td>2</td>\n",
       "      <td>4.000000</td>\n",
       "      <td>hire</td>\n",
       "      <td>listened</td>\n",
       "    </tr>\n",
       "    <tr>\n",
       "      <th>4</th>\n",
       "      <td>2</td>\n",
       "      <td>4.666667</td>\n",
       "      <td>impression</td>\n",
       "      <td>listened</td>\n",
       "    </tr>\n",
       "  </tbody>\n",
       "</table>\n",
       "</div>"
      ],
      "text/plain": [
       "   eval_id    Rating    Category condition\n",
       "0        1  6.000000        hire  listened\n",
       "1        1  7.000000  impression  listened\n",
       "2        1  6.000000   intellect  listened\n",
       "3        2  4.000000        hire  listened\n",
       "4        2  4.666667  impression  listened"
      ]
     },
     "execution_count": 367,
     "metadata": {},
     "output_type": "execute_result"
    }
   ],
   "source": [
    "# Q5 (code):\n",
    "# Filter the ratings DataFrame to include only 'thoughtful', 'competent', and 'intelligent' categories\n",
    "df_ratings2=df_ratings.loc[(df_ratings['Category']=='thoughtful')|(df_ratings['Category'] == 'competent')|(df_ratings['Category'] == 'intelligent')]\n",
    "\n",
    "# Calculate the mean intellect rating for each evaluator\n",
    "# Group by 'eval_id' and calculate mean, then reset the index to convert groupby object back to DataFrame\n",
    "intellect_mean=df_ratings2.groupby('eval_id').mean().reset_index()\n",
    "\n",
    "# Add a 'Category' column with the value 'intellect' for these rows\n",
    "intellect_mean['Category']='intellect'\n",
    "\n",
    "# Create a DataFrame for 'impression' and 'hire' ratings\n",
    "other_ratings=df_ratings.loc[(df_ratings['Category']=='impression')|(df_ratings['Category']=='hire')]\n",
    "\n",
    "# Combine the DataFrames to create 'ratings2'\n",
    "# Concatenate the 'intellect_mean' DataFrame with the 'other_ratings' DataFrame\n",
    "concat_df=pd.concat([intellect_mean, other_ratings], axis=0)#pd.concat() is used to catenate pandas objects along a particular axis, and the axis=0 parameter indicates concatenating along the rows.https://chat.openai.com/c/0eb859cb-8c2e-4302-bd18-b3983d226237\n",
    "\n",
    "# Join 'ratings2' with the 'df_evaluators' DataFrame to add the 'condition' column\n",
    "merged_df = pd.merge(concat_df, df_evaluators, on='eval_id', how='left')# pd.merge() is used to combine DataFrames based on the values of common columns, and 'how='left''indicates a left join.https://pandas.pydata.org/pandas-docs/stable/reference/api/pandas.DataFrame.merge.html\n",
    "\n",
    "# Select only the necessary columns as per the structure required\n",
    "ratings2=merged_df.drop(['age','sex'], axis=1)\n",
    "\n",
    "# Arrange by 'eval_id' and 'Category'\n",
    "ratings2 = ratings2.sort_values(by=['eval_id', 'Category'])# This code will sort the values first by 'eval_id' and then within each 'eval_id' group, it will be sorted by 'Category'.https://pandas.pydata.org/docs/reference/api/pandas.DataFrame.sort_values.html\n",
    "ratings2.reset_index(drop=True, inplace=True) # Reset the index to remove the old index\n",
    "# Display the first few rows of the final 'ratings2' DataFrame to verify\n",
    "ratings2.head()\n"
   ]
  },
  {
   "cell_type": "markdown",
   "metadata": {},
   "source": [
    "###Step 3: Perform descriptive and inferential statistical analyses, including testing assumptions and conducting independent t-tests.\n",
    "\n",
    "We are going to run the t-tests for Intellect, Hire and Impression; each time comparing evaluators overall ratings for the listened group versus overall ratings for the read group to see if there was a significant difference between the two conditions: i.e., did the evaluators who listened to pitches give a significant higher or lower rating than evaluators that read pitches?\n",
    "\n",
    "Question 6:\n",
    "\n",
    "a. In terms of hypotheses, how can we phrase the hypothesis?\n",
    "\n",
    "b. Which t-test should we choose, one-tail or two-tail? And explian why.\n",
    "\n",
    "c. What are the independent variable and the dependent variable here?"
   ]
  },
  {
   "cell_type": "markdown",
   "metadata": {
    "id": "duti45rG22eS"
   },
   "source": [
    "### Q6a (answer in words):\n",
    "Null hypothesis:There is no significant difference between overall ratings on the Intellect(or Hire or Impression) scale between evaluators who listened to resume pitches and evaluators who read the resume pitches (H0:μ1=μ2). \n",
    "\n",
    "Alternative hypothesis: There will be a significant difference between overall ratings on the Intellect(or Hire or Impression) scale between evaluators who listened to resume pitches and evaluators who read the resume pitches (H1:μ1≠μ2).\n",
    "\n",
    "#### we could phrase the null hypothesis for these tests as there is no significant difference between overall ratings on the Intellect,Hire and Impression scale between evaluators who listened to resume pitches and evaluators who read the resume pitches (H0:μ1=μ2). Alternatively, we could state it as there will be a significant difference between overall ratings on the {insert trait} scale between evaluators who listened to resume pitches and evaluators who read the resume pitches (H1:μ1≠μ2)."
   ]
  },
  {
   "cell_type": "markdown",
   "metadata": {
    "id": "EkoM_0js3fyS"
   },
   "source": [
    "### Q6b (answer in words):\n",
    "#### Which t-test should we choose, one-tail or two-tail? Explian why.\n",
    "We should choose two-tailed test because we do not have a specific direction in mind.Namely, we are not sure one group's overall ratings are higher or lower than the other's. We only has the hypothesis that two groups' overall ratings on the Intellect,Hire and Impression scale are different."
   ]
  },
  {
   "cell_type": "markdown",
   "metadata": {
    "id": "073zOlIsI5ws"
   },
   "source": [
    "### Q6c (answer in words):\n",
    "#### What are the independent variable and the dependent variable here?\n",
    "The independent variable is condition (read or listened), and the dependent variable is the overall ratings on the Intellect,Hire and Impression scale."
   ]
  },
  {
   "cell_type": "markdown",
   "metadata": {
    "id": "4g-SpuDX23iL"
   },
   "source": [
    "\n",
    "To clarify, we are going to run three between-subjects t-tests in total; one for intellect ratings; one for hire ratings; one for impression ratings.\n",
    "\n",
    "**Instructions:**\n",
    "\n",
    "1. Descriptive analysis of the ratings.\n",
    "\n",
    "2. Test for normal distribution (Shapiro-Wilk test) and homogeneity of variances (Levene's test) for the intellect, impression, and hire ratings.\n",
    "\n",
    "3. Conduct independent t-tests comparing intellect, impression, and hire ratings between conditions (listened vs. read).\n",
    "\n",
    "Hints: three T-tests need to be performed.\n",
    "\n",
    "**Question 7**:\n",
    "\n",
    "a: Print the test results.\n",
    "\n",
    "b: Interpret the results of the above descriptive statistics, Shapiro-Wilk test, Levene's test, and independent t-tests. Explian why we use these tests and how we made our decisions based on the test result."
   ]
  },
  {
   "cell_type": "markdown",
   "metadata": {},
   "source": [
    "#### First, we run t-test for intellect ratings."
   ]
  },
  {
   "cell_type": "code",
   "execution_count": 368,
   "metadata": {
    "id": "QD3ZZRrAq4Gc"
   },
   "outputs": [
    {
     "data": {
      "text/html": [
       "<div>\n",
       "<style scoped>\n",
       "    .dataframe tbody tr th:only-of-type {\n",
       "        vertical-align: middle;\n",
       "    }\n",
       "\n",
       "    .dataframe tbody tr th {\n",
       "        vertical-align: top;\n",
       "    }\n",
       "\n",
       "    .dataframe thead th {\n",
       "        text-align: right;\n",
       "    }\n",
       "</style>\n",
       "<table border=\"1\" class=\"dataframe\">\n",
       "  <thead>\n",
       "    <tr style=\"text-align: right;\">\n",
       "      <th></th>\n",
       "      <th>eval_id</th>\n",
       "      <th>Rating</th>\n",
       "    </tr>\n",
       "  </thead>\n",
       "  <tbody>\n",
       "    <tr>\n",
       "      <th>count</th>\n",
       "      <td>39.000000</td>\n",
       "      <td>39.000000</td>\n",
       "    </tr>\n",
       "    <tr>\n",
       "      <th>mean</th>\n",
       "      <td>20.000000</td>\n",
       "      <td>4.717949</td>\n",
       "    </tr>\n",
       "    <tr>\n",
       "      <th>std</th>\n",
       "      <td>11.401754</td>\n",
       "      <td>2.000787</td>\n",
       "    </tr>\n",
       "    <tr>\n",
       "      <th>min</th>\n",
       "      <td>1.000000</td>\n",
       "      <td>0.666667</td>\n",
       "    </tr>\n",
       "    <tr>\n",
       "      <th>25%</th>\n",
       "      <td>10.500000</td>\n",
       "      <td>3.500000</td>\n",
       "    </tr>\n",
       "    <tr>\n",
       "      <th>50%</th>\n",
       "      <td>20.000000</td>\n",
       "      <td>5.000000</td>\n",
       "    </tr>\n",
       "    <tr>\n",
       "      <th>75%</th>\n",
       "      <td>29.500000</td>\n",
       "      <td>6.000000</td>\n",
       "    </tr>\n",
       "    <tr>\n",
       "      <th>max</th>\n",
       "      <td>39.000000</td>\n",
       "      <td>9.000000</td>\n",
       "    </tr>\n",
       "  </tbody>\n",
       "</table>\n",
       "</div>"
      ],
      "text/plain": [
       "         eval_id     Rating\n",
       "count  39.000000  39.000000\n",
       "mean   20.000000   4.717949\n",
       "std    11.401754   2.000787\n",
       "min     1.000000   0.666667\n",
       "25%    10.500000   3.500000\n",
       "50%    20.000000   5.000000\n",
       "75%    29.500000   6.000000\n",
       "max    39.000000   9.000000"
      ]
     },
     "execution_count": 368,
     "metadata": {},
     "output_type": "execute_result"
    }
   ],
   "source": [
    "##Q7a (code):\n",
    "from scipy.stats import shapiro, levene, ttest_ind # used for tests for normal distribution, homogeneity of variances and independent t-test\n",
    "\n",
    "# Descriptive analysis of the ratings on Intellect scale\n",
    "inte_df=ratings2.loc[ratings2['Category']=='intellect']\n",
    "inte_df.describe()"
   ]
  },
  {
   "cell_type": "code",
   "execution_count": 369,
   "metadata": {},
   "outputs": [],
   "source": [
    "# Divide the intellect ratings into read group and listened group based on the condition\n",
    "sub_inte=inte_df.groupby('condition')\n",
    "inte_read=sub_inte.get_group('read')\n",
    "inte_listened=sub_inte.get_group('listened')"
   ]
  },
  {
   "cell_type": "code",
   "execution_count": 370,
   "metadata": {},
   "outputs": [
    {
     "data": {
      "text/plain": [
       "<Axes: >"
      ]
     },
     "execution_count": 370,
     "metadata": {},
     "output_type": "execute_result"
    },
    {
     "data": {
      "image/png": "[encoded data removed]",
      "text/plain": [
       "<Figure size 640x480 with 1 Axes>"
      ]
     },
     "metadata": {},
     "output_type": "display_data"
    }
   ],
   "source": [
    "# Display the histogram\n",
    "inte_read['Rating'].hist()"
   ]
  },
  {
   "cell_type": "code",
   "execution_count": 371,
   "metadata": {},
   "outputs": [
    {
     "data": {
      "text/plain": [
       "<Axes: >"
      ]
     },
     "execution_count": 371,
     "metadata": {},
     "output_type": "execute_result"
    },
    {
     "data": {
      "image/png": "[encoded data removed]",
      "text/plain": [
       "<Figure size 640x480 with 1 Axes>"
      ]
     },
     "metadata": {},
     "output_type": "display_data"
    }
   ],
   "source": [
    "inte_listened['Rating'].hist()"
   ]
  },
  {
   "cell_type": "code",
   "execution_count": 391,
   "metadata": {},
   "outputs": [
    {
     "name": "stdout",
     "output_type": "stream",
     "text": [
      "0.4447984993457794\n",
      "Read group: The data are normally distributed, confirm H0\n",
      "0.17365092039108276\n",
      "listened group: The data are normally distributed, confirm H0\n"
     ]
    }
   ],
   "source": [
    "# Test for normal distribution (Shapiro-Wilk test)\n",
    "\n",
    "# H0: The data are normally distributed\n",
    "# H1：The data are NOT normally distributed\n",
    "# Test for normal distribution of intellect ratings in read group\n",
    "score_shapiro_read, p_val_shapiro_read = stats.shapiro(inte_read['Rating'])\n",
    "print(p_val_shapiro_read)\n",
    "if p_val_shapiro_read<0.05:\n",
    "    print('Read group: The data are NOT normally distributed, reject H0')\n",
    "else:\n",
    "    print('Read group: The data are normally distributed, confirm H0')\n",
    "\n",
    "# Test for normal distribution of intellect ratings in listened group\n",
    "score_shapiro_listened, p_val_shapiro_listened = stats.shapiro(inte_listened['Rating'])\n",
    "print(p_val_shapiro_listened)\n",
    "if p_val_shapiro_listened<0.05:\n",
    "    print('listened group: The data are NOT normally distributed, reject H0')\n",
    "else:\n",
    "    print('listened group: The data are normally distributed, confirm H0')\n"
   ]
  },
  {
   "cell_type": "code",
   "execution_count": 373,
   "metadata": {},
   "outputs": [
    {
     "name": "stdout",
     "output_type": "stream",
     "text": [
      "0.34946205893248505\n",
      "Levene's test is not significant - proceed\n"
     ]
    }
   ],
   "source": [
    "# Test for homogeneity of variances (Levene's test)\n",
    "# H0: The population variances are equal\n",
    "# H1: The population variances are NOT equal\n",
    "score, p_val = stats.levene(inte_read['Rating'], inte_listened['Rating'])\n",
    "print(p_val)\n",
    "if p_val < 0.05:\n",
    "    print(\"Levene's test is significant - use Welch's test\")\n",
    "else:\n",
    "    print(\"Levene's test is not significant - proceed\")"
   ]
  },
  {
   "cell_type": "markdown",
   "metadata": {},
   "source": [
    "Now that the data are normally distributed and the population variances are equal, we can proceed to do independent t-test."
   ]
  },
  {
   "cell_type": "code",
   "execution_count": 374,
   "metadata": {},
   "outputs": [
    {
     "name": "stdout",
     "output_type": "stream",
     "text": [
      "0.0011444414996286821\n",
      "Difference is statistically significant - reject H0, confirm H1\n"
     ]
    }
   ],
   "source": [
    "# Independent t-tests\n",
    "ttest_score, p_val = stats.ttest_ind(inte_read['Rating'], inte_listened['Rating'])\n",
    "print(p_val)\n",
    "if p_val < 0.05:\n",
    "    print(\"Difference is statistically significant - reject H0, confirm H1\")\n",
    "else:\n",
    "    print(\"Difference is NOT statistically significant - reject H1, confirm H0\")"
   ]
  },
  {
   "cell_type": "markdown",
   "metadata": {},
   "source": [
    "#### Second, we run t-test for hire ratings."
   ]
  },
  {
   "cell_type": "code",
   "execution_count": 375,
   "metadata": {},
   "outputs": [
    {
     "data": {
      "text/html": [
       "<div>\n",
       "<style scoped>\n",
       "    .dataframe tbody tr th:only-of-type {\n",
       "        vertical-align: middle;\n",
       "    }\n",
       "\n",
       "    .dataframe tbody tr th {\n",
       "        vertical-align: top;\n",
       "    }\n",
       "\n",
       "    .dataframe thead th {\n",
       "        text-align: right;\n",
       "    }\n",
       "</style>\n",
       "<table border=\"1\" class=\"dataframe\">\n",
       "  <thead>\n",
       "    <tr style=\"text-align: right;\">\n",
       "      <th></th>\n",
       "      <th>eval_id</th>\n",
       "      <th>Rating</th>\n",
       "    </tr>\n",
       "  </thead>\n",
       "  <tbody>\n",
       "    <tr>\n",
       "      <th>count</th>\n",
       "      <td>39.000000</td>\n",
       "      <td>39.000000</td>\n",
       "    </tr>\n",
       "    <tr>\n",
       "      <th>mean</th>\n",
       "      <td>20.000000</td>\n",
       "      <td>3.871795</td>\n",
       "    </tr>\n",
       "    <tr>\n",
       "      <th>std</th>\n",
       "      <td>11.401754</td>\n",
       "      <td>2.330343</td>\n",
       "    </tr>\n",
       "    <tr>\n",
       "      <th>min</th>\n",
       "      <td>1.000000</td>\n",
       "      <td>0.000000</td>\n",
       "    </tr>\n",
       "    <tr>\n",
       "      <th>25%</th>\n",
       "      <td>10.500000</td>\n",
       "      <td>2.000000</td>\n",
       "    </tr>\n",
       "    <tr>\n",
       "      <th>50%</th>\n",
       "      <td>20.000000</td>\n",
       "      <td>4.000000</td>\n",
       "    </tr>\n",
       "    <tr>\n",
       "      <th>75%</th>\n",
       "      <td>29.500000</td>\n",
       "      <td>5.000000</td>\n",
       "    </tr>\n",
       "    <tr>\n",
       "      <th>max</th>\n",
       "      <td>39.000000</td>\n",
       "      <td>8.000000</td>\n",
       "    </tr>\n",
       "  </tbody>\n",
       "</table>\n",
       "</div>"
      ],
      "text/plain": [
       "         eval_id     Rating\n",
       "count  39.000000  39.000000\n",
       "mean   20.000000   3.871795\n",
       "std    11.401754   2.330343\n",
       "min     1.000000   0.000000\n",
       "25%    10.500000   2.000000\n",
       "50%    20.000000   4.000000\n",
       "75%    29.500000   5.000000\n",
       "max    39.000000   8.000000"
      ]
     },
     "execution_count": 375,
     "metadata": {},
     "output_type": "execute_result"
    }
   ],
   "source": [
    "# Descriptive analysis of the ratings on Hire scale\n",
    "hire_df=ratings2.loc[ratings2['Category']=='hire']\n",
    "hire_df.describe()"
   ]
  },
  {
   "cell_type": "code",
   "execution_count": 376,
   "metadata": {},
   "outputs": [],
   "source": [
    "# Divide the intellect ratings into read group and listened group based on the condition\n",
    "sub_hire=hire_df.groupby('condition')\n",
    "hire_read=sub_hire.get_group('read')\n",
    "hire_listened=sub_hire.get_group('listened')"
   ]
  },
  {
   "cell_type": "code",
   "execution_count": 377,
   "metadata": {},
   "outputs": [
    {
     "data": {
      "text/plain": [
       "<Axes: >"
      ]
     },
     "execution_count": 377,
     "metadata": {},
     "output_type": "execute_result"
    },
    {
     "data": {
      "image/png": "[encoded data removed]",
      "text/plain": [
       "<Figure size 640x480 with 1 Axes>"
      ]
     },
     "metadata": {},
     "output_type": "display_data"
    }
   ],
   "source": [
    "# Display the histogram\n",
    "hire_read['Rating'].hist()"
   ]
  },
  {
   "cell_type": "code",
   "execution_count": 378,
   "metadata": {},
   "outputs": [
    {
     "data": {
      "text/plain": [
       "<Axes: >"
      ]
     },
     "execution_count": 378,
     "metadata": {},
     "output_type": "execute_result"
    },
    {
     "data": {
      "image/png": "[encoded data removed]",
      "text/plain": [
       "<Figure size 640x480 with 1 Axes>"
      ]
     },
     "metadata": {},
     "output_type": "display_data"
    }
   ],
   "source": [
    "hire_listened['Rating'].hist()"
   ]
  },
  {
   "cell_type": "code",
   "execution_count": 379,
   "metadata": {},
   "outputs": [
    {
     "name": "stdout",
     "output_type": "stream",
     "text": [
      "0.06600592285394669\n",
      "Read group: The data are normally distributed, confirm H0\n",
      "0.20883114635944366\n",
      "listened group: The data are normally distributed, confirm H0\n"
     ]
    }
   ],
   "source": [
    "# Test for normal distribution (Shapiro-Wilk test)\n",
    "\n",
    "# H0: The data are normally distributed\n",
    "# H1：The data are NOT normally distributed\n",
    "# Test for normal distribution of hire ratings in read group\n",
    "score_shapiro_read, p_val_shapiro_read = stats.shapiro(hire_read['Rating'])\n",
    "print(p_val_shapiro_read)\n",
    "if p_val_shapiro_read<0.05:\n",
    "    print('Read group: The data are NOT normally distributed, reject H0')\n",
    "else:\n",
    "    print('Read group: The data are normally distributed, confirm H0')\n",
    "\n",
    "# Test for normal distribution of hire ratings in listened group\n",
    "score_shapiro_listened, p_val_shapiro_listened = stats.shapiro(hire_listened['Rating'])\n",
    "print(p_val_shapiro_listened)\n",
    "if p_val_shapiro_listened<0.05:\n",
    "    print('listened group: The data are NOT normally distributed, reject H0')\n",
    "else:\n",
    "    print('listened group: The data are normally distributed, confirm H0')"
   ]
  },
  {
   "cell_type": "code",
   "execution_count": 380,
   "metadata": {},
   "outputs": [
    {
     "name": "stdout",
     "output_type": "stream",
     "text": [
      "0.7458453933447955\n",
      "Levene's test is not significant - proceed\n"
     ]
    }
   ],
   "source": [
    "# Test for homogeneity of variances (Levene's test)\n",
    "# H0: The population variances are equal\n",
    "# H1: The population variances are NOT equal\n",
    "score, p_val = stats.levene(hire_read['Rating'], hire_listened['Rating'])\n",
    "print(p_val)\n",
    "if p_val < 0.05:\n",
    "    print(\"Levene's test is significant - use Welch's test\")\n",
    "else:\n",
    "    print(\"Levene's test is not significant - proceed\")"
   ]
  },
  {
   "cell_type": "markdown",
   "metadata": {},
   "source": [
    "Now that the data are normally distributed and the population variances are equal, we can proceed to do independent t-test."
   ]
  },
  {
   "cell_type": "code",
   "execution_count": 381,
   "metadata": {},
   "outputs": [
    {
     "name": "stdout",
     "output_type": "stream",
     "text": [
      "0.012674511839824125\n",
      "Difference is statistically significant - reject H0, confirm H1\n"
     ]
    }
   ],
   "source": [
    "# Independent t-tests\n",
    "ttest_score, p_val = stats.ttest_ind(hire_read['Rating'], hire_listened['Rating'])\n",
    "print(p_val)\n",
    "if p_val < 0.05:\n",
    "    print(\"Difference is statistically significant - reject H0, confirm H1\")\n",
    "else:\n",
    "    print(\"Difference is NOT statistically significant - reject H1, confirm H0\")\n"
   ]
  },
  {
   "cell_type": "markdown",
   "metadata": {},
   "source": [
    "#### Third, we run t-test for impression ratings."
   ]
  },
  {
   "cell_type": "code",
   "execution_count": 382,
   "metadata": {},
   "outputs": [
    {
     "data": {
      "text/html": [
       "<div>\n",
       "<style scoped>\n",
       "    .dataframe tbody tr th:only-of-type {\n",
       "        vertical-align: middle;\n",
       "    }\n",
       "\n",
       "    .dataframe tbody tr th {\n",
       "        vertical-align: top;\n",
       "    }\n",
       "\n",
       "    .dataframe thead th {\n",
       "        text-align: right;\n",
       "    }\n",
       "</style>\n",
       "<table border=\"1\" class=\"dataframe\">\n",
       "  <thead>\n",
       "    <tr style=\"text-align: right;\">\n",
       "      <th></th>\n",
       "      <th>eval_id</th>\n",
       "      <th>Rating</th>\n",
       "    </tr>\n",
       "  </thead>\n",
       "  <tbody>\n",
       "    <tr>\n",
       "      <th>count</th>\n",
       "      <td>39.000000</td>\n",
       "      <td>39.000000</td>\n",
       "    </tr>\n",
       "    <tr>\n",
       "      <th>mean</th>\n",
       "      <td>20.000000</td>\n",
       "      <td>5.094017</td>\n",
       "    </tr>\n",
       "    <tr>\n",
       "      <th>std</th>\n",
       "      <td>11.401754</td>\n",
       "      <td>2.254234</td>\n",
       "    </tr>\n",
       "    <tr>\n",
       "      <th>min</th>\n",
       "      <td>1.000000</td>\n",
       "      <td>0.333333</td>\n",
       "    </tr>\n",
       "    <tr>\n",
       "      <th>25%</th>\n",
       "      <td>10.500000</td>\n",
       "      <td>3.666667</td>\n",
       "    </tr>\n",
       "    <tr>\n",
       "      <th>50%</th>\n",
       "      <td>20.000000</td>\n",
       "      <td>5.333333</td>\n",
       "    </tr>\n",
       "    <tr>\n",
       "      <th>75%</th>\n",
       "      <td>29.500000</td>\n",
       "      <td>7.000000</td>\n",
       "    </tr>\n",
       "    <tr>\n",
       "      <th>max</th>\n",
       "      <td>39.000000</td>\n",
       "      <td>8.666667</td>\n",
       "    </tr>\n",
       "  </tbody>\n",
       "</table>\n",
       "</div>"
      ],
      "text/plain": [
       "         eval_id     Rating\n",
       "count  39.000000  39.000000\n",
       "mean   20.000000   5.094017\n",
       "std    11.401754   2.254234\n",
       "min     1.000000   0.333333\n",
       "25%    10.500000   3.666667\n",
       "50%    20.000000   5.333333\n",
       "75%    29.500000   7.000000\n",
       "max    39.000000   8.666667"
      ]
     },
     "execution_count": 382,
     "metadata": {},
     "output_type": "execute_result"
    }
   ],
   "source": [
    "# Descriptive analysis of the ratings on Impression scale\n",
    "impre_df=ratings2.loc[ratings2['Category']=='impression']\n",
    "impre_df.describe()"
   ]
  },
  {
   "cell_type": "code",
   "execution_count": 383,
   "metadata": {},
   "outputs": [],
   "source": [
    "# Divide the impression ratings into read group and listened group based on the condition\n",
    "sub_impre=impre_df.groupby('condition')\n",
    "impre_read=sub_impre.get_group('read')\n",
    "impre_listened=sub_impre.get_group('listened')"
   ]
  },
  {
   "cell_type": "code",
   "execution_count": 384,
   "metadata": {},
   "outputs": [
    {
     "data": {
      "text/plain": [
       "<Axes: >"
      ]
     },
     "execution_count": 384,
     "metadata": {},
     "output_type": "execute_result"
    },
    {
     "data": {
      "image/png": "[encoded data removed]",
      "text/plain": [
       "<Figure size 640x480 with 1 Axes>"
      ]
     },
     "metadata": {},
     "output_type": "display_data"
    }
   ],
   "source": [
    "# Display the histogram\n",
    "impre_read['Rating'].hist()"
   ]
  },
  {
   "cell_type": "code",
   "execution_count": 385,
   "metadata": {},
   "outputs": [
    {
     "data": {
      "text/plain": [
       "<Axes: >"
      ]
     },
     "execution_count": 385,
     "metadata": {},
     "output_type": "execute_result"
    },
    {
     "data": {
      "image/png": "[encoded data removed]",
      "text/plain": [
       "<Figure size 640x480 with 1 Axes>"
      ]
     },
     "metadata": {},
     "output_type": "display_data"
    }
   ],
   "source": [
    "impre_listened['Rating'].hist()"
   ]
  },
  {
   "cell_type": "code",
   "execution_count": 386,
   "metadata": {
    "scrolled": true
   },
   "outputs": [
    {
     "name": "stdout",
     "output_type": "stream",
     "text": [
      "0.40011918544769287\n",
      "Read group: The data are normally distributed, confirm H0\n",
      "0.21275967359542847\n",
      "listened group: The data are normally distributed, confirm H0\n"
     ]
    }
   ],
   "source": [
    "# Test for normal distribution (Shapiro-Wilk test)\n",
    "\n",
    "# H0: The data are normally distributed\n",
    "# H1：The data are NOT normally distributed\n",
    "# Test for normal distribution of impression ratings in read group\n",
    "score_shapiro_read, p_val_shapiro_read = stats.shapiro(impre_read['Rating'])\n",
    "print(p_val_shapiro_read)\n",
    "if p_val_shapiro_read<0.05:\n",
    "    print('Read group: The data are NOT normally distributed, reject H0')\n",
    "else:\n",
    "    print('Read group: The data are normally distributed, confirm H0')\n",
    "\n",
    "# Test for normal distribution of impression ratings in listened group\n",
    "score_shapiro_listened, p_val_shapiro_listened = stats.shapiro(impre_listened['Rating'])\n",
    "print(p_val_shapiro_listened)\n",
    "if p_val_shapiro_listened<0.05:\n",
    "    print('listened group: The data are NOT normally distributed, reject H0')\n",
    "else:\n",
    "    print('listened group: The data are normally distributed, confirm H0')"
   ]
  },
  {
   "cell_type": "code",
   "execution_count": 387,
   "metadata": {},
   "outputs": [
    {
     "name": "stdout",
     "output_type": "stream",
     "text": [
      "0.5358960150374064\n",
      "Levene's test is not significant - proceed\n"
     ]
    }
   ],
   "source": [
    "# Test for homogeneity of variances (Levene's test)\n",
    "# H0: The population variances are equal\n",
    "# H1: The population variances are NOT equal\n",
    "score, p_val = stats.levene(impre_read['Rating'], impre_listened['Rating'])\n",
    "print(p_val)\n",
    "if p_val < 0.05:\n",
    "    print(\"Levene's test is significant - use Welch's test\")\n",
    "else:\n",
    "    print(\"Levene's test is not significant - proceed\")"
   ]
  },
  {
   "cell_type": "markdown",
   "metadata": {},
   "source": [
    "Now that the data are normally distributed and the population variances are equal, we can proceed to do independent t-test."
   ]
  },
  {
   "cell_type": "code",
   "execution_count": 388,
   "metadata": {},
   "outputs": [
    {
     "name": "stdout",
     "output_type": "stream",
     "text": [
      "0.007091060616710596\n",
      "Difference is statistically significant - reject H0, confirm H1\n"
     ]
    }
   ],
   "source": [
    "# Independent t-tests\n",
    "ttest_score, p_val = stats.ttest_ind(impre_read['Rating'], impre_listened['Rating'])\n",
    "print(p_val)\n",
    "if p_val < 0.05:\n",
    "    print(\"Difference is statistically significant - reject H0, confirm H1\")\n",
    "else:\n",
    "    print(\"Difference is NOT statistically significant - reject H1, confirm H0\")"
   ]
  },
  {
   "cell_type": "markdown",
   "metadata": {
    "id": "aifm_T8UQwYm"
   },
   "source": [
    "### Q7b (answer in words):\n",
    "To test if there will be a significant difference between overall ratings on the Intellect scale between evaluators who listened to resume pitches and evaluators who read the resume pitches, we need to conduct an independent t-test. However, to conduct an independent t-test, the variables need to be unpaired, the values of dependent variable need to be continuous, data need to be normally distribued and the variances between the two groups need to be equal.We know the variables are unpaired because there is no connection between the read group and the listened group.Additionally, according to the overview of the data, the data of dependent variable (rating) are continuous.Another, the histograms of both groups suggest normal distribution, and this observation is corroborated by the Shapiro-Wilk tests, where all p-values exceeded 0.05, supporting the null hypothesis (data are normally distributed). Furthermore, the Levene's test produces a p-value higher than 0.05, affirming the null hypothesis that population variances are equal. With all criteria met, independent t-tests can be conducted. The p-value of the t-test for Intellect ratings is below 0.05, indicating rejection of the null hypothesis. This confirms H1 that there is a significant difference between overall ratings on the Intellect scale between evaluators who listened to resume pitches and evaluators who read the resume pitches. Similar processes and results are obtained for the t-tests on the Hire and Impression scales."
   ]
  },
  {
   "cell_type": "code",
   "execution_count": null,
   "metadata": {},
   "outputs": [],
   "source": []
  }
 ],
 "metadata": {
  "colab": {
   "provenance": []
  },
  "kernelspec": {
   "display_name": "Python 3 (ipykernel)",
   "language": "python",
   "name": "python3"
  },
  "language_info": {
   "codemirror_mode": {
    "name": "ipython",
    "version": 3
   },
   "file_extension": ".py",
   "mimetype": "text/x-python",
   "name": "python",
   "nbconvert_exporter": "python",
   "pygments_lexer": "ipython3",
   "version": "3.11.4"
  }
 },
 "nbformat": 4,
 "nbformat_minor": 1
}
